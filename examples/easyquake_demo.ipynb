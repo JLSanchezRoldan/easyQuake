{
  "nbformat": 4,
  "nbformat_minor": 0,
  "metadata": {
    "colab": {
      "name": "easyquake_demo.ipynb",
      "provenance": [],
      "collapsed_sections": [],
      "authorship_tag": "ABX9TyOh9g010urAULDql6uWPpNL",
      "include_colab_link": true
    },
    "kernelspec": {
      "name": "python3",
      "display_name": "Python 3"
    },
    "accelerator": "GPU",
    "gpuClass": "standard"
  },
  "cells": [
    {
      "cell_type": "markdown",
      "metadata": {
        "id": "view-in-github",
        "colab_type": "text"
      },
      "source": [
        "<a href=\"https://colab.research.google.com/github/jakewalter/easyQuake/blob/master/examples/easyquake_demo.ipynb\" target=\"_parent\"><img src=\"https://colab.research.google.com/assets/colab-badge.svg\" alt=\"Open In Colab\"/></a>"
      ]
    },
    {
      "cell_type": "code",
      "metadata": {
        "id": "LohMako1d0ve"
      },
      "source": [
        "\n",
        "!pip install easyQuake"
      ],
      "execution_count": null,
      "outputs": []
    },
    {
      "cell_type": "code",
      "metadata": {
        "id": "Rw_1Ix2nsFnO"
      },
      "source": [
        "from easyQuake import download_mseed\n",
        "from easyQuake import daterange\n",
        "from datetime import date\n",
        "from easyQuake import combine_associated\n",
        "from easyQuake import detection_continuous\n",
        "from easyQuake import association_continuous\n",
        "\n",
        "from easyQuake import magnitude_quakeml\n",
        "from easyQuake import simple_cat_df\n",
        "\n",
        "import matplotlib.pyplot as plt\n",
        "maxkm = 300\n",
        "maxdist=300\n",
        "lat_a = 42\n",
        "lat_b = 47.5\n",
        "lon_a = -118\n",
        "lon_b = -111\n",
        "\n",
        "\n",
        "start_date = date(2020, 3, 31)\n",
        "end_date = date(2020, 4, 1)\n",
        "\n",
        "project_code = 'idaho'\n",
        "project_folder = '/content/id'\n",
        "!mkdir /content/id\n",
        "import os\n",
        "print(os.getcwd())\n",
        "%cd /content/id\n",
        "!wget https://wichita.ogs.ou.edu/eq/tutorial/easyquake_tutorial_idaho.zip\n",
        "!unzip easyquake_tutorial_idaho.zip\n"
      ],
      "execution_count": null,
      "outputs": []
    },
    {
      "cell_type": "code",
      "metadata": {
        "id": "rOqdmM67nuM_"
      },
      "source": [
        "\n",
        "for single_date in daterange(start_date, end_date):\n",
        "    print(single_date.strftime(\"%Y-%m-%d\"))\n",
        "    dirname = single_date.strftime(\"%Y%m%d\")\n",
        "    detection_continuous(dirname=dirname, project_folder=project_folder, project_code=project_code, single_date=single_date, machine=True,machine_picker = 'EQTransformer', local=True)\n"
      ],
      "execution_count": null,
      "outputs": []
    },
    {
      "cell_type": "code",
      "source": [
        "for single_date in daterange(start_date, end_date):\n",
        "    print(single_date.strftime(\"%Y-%m-%d\"))\n",
        "    dirname = single_date.strftime(\"%Y%m%d\")\n",
        "    association_continuous(dirname=dirname, project_folder=project_folder, project_code=project_code, maxdist=maxdist, maxkm=maxkm, single_date=single_date, local=True)\n",
        "\n",
        "\n"
      ],
      "metadata": {
        "id": "UuHF9ZHnZNZY"
      },
      "execution_count": null,
      "outputs": []
    },
    {
      "cell_type": "code",
      "source": [
        "cat, dfs = combine_associated(project_folder=project_folder, project_code=project_code)\n",
        "cat = magnitude_quakeml(cat=cat, project_folder=project_folder,plot_event=True)\n",
        "cat.write('catalog_idaho.xml',format='QUAKEML')\n",
        "\n",
        "\n",
        "catdf = simple_cat_df(cat)\n",
        "plt.figure()\n",
        "plt.plot(catdf.origintime,catdf.magnitude,'.')"
      ],
      "metadata": {
        "id": "Dw2wGqhLudEt"
      },
      "execution_count": null,
      "outputs": []
    }
  ]
}